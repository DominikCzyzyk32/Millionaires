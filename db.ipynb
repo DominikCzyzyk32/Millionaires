{
 "cells": [
  {
   "cell_type": "code",
   "execution_count": 1,
   "metadata": {},
   "outputs": [],
   "source": [
    "from sqlalchemy import create_engine\n",
    "from sqlalchemy_utils import database_exists, create_database\n",
    "from sqlalchemy.ext.declarative import declarative_base\n",
    "from sqlalchemy import Column, Integer, String, Date, ForeignKey, Sequence, CheckConstraint, UniqueConstraint"
   ]
  },
  {
   "cell_type": "code",
   "execution_count": 2,
   "metadata": {},
   "outputs": [
    {
     "name": "stderr",
     "output_type": "stream",
     "text": [
      "C:\\Users\\domin\\AppData\\Local\\Temp\\ipykernel_3916\\4196137762.py:1: MovedIn20Warning: The ``declarative_base()`` function is now available as sqlalchemy.orm.declarative_base(). (deprecated since: 2.0) (Background on SQLAlchemy 2.0 at: https://sqlalche.me/e/b8d9)\n",
      "  Base = declarative_base()\n"
     ]
    }
   ],
   "source": [
    "Base = declarative_base()"
   ]
  },
  {
   "cell_type": "code",
   "execution_count": 3,
   "metadata": {},
   "outputs": [],
   "source": [
    "# create tables structure\n",
    "class TextContent(Base):\n",
    "    __tablename__ = 'TextContent'\n",
    "    __table_args__ = (\n",
    "        UniqueConstraint('text_content_tag'),\n",
    "    )\n",
    "    text_content_id = Column(Integer, primary_key=True)\n",
    "    text_content_tag = Column(String(50), nullable=False)\n",
    "    original_text = Column(String(500))\n",
    "    original_language_id = Column(Integer, ForeignKey('Languages.language_id'))\n",
    "\n",
    "    def __repr__(self):\n",
    "        return \"<TextContent(text_content_id={0}, text_content_tag={1}, original_text={2}, original_language_id={3})>\".format(\n",
    "            self.text_content_id, self.text_content_tag, self.original_text, self.original_language_id)\n",
    "    \n",
    "class Languages(Base):\n",
    "    __tablename__ = 'Languages'\n",
    "    __table_args__ = (\n",
    "        CheckConstraint('LENGTH(language_name) = 2'),\n",
    "        UniqueConstraint('language_name'),\n",
    "    )\n",
    "    language_id = Column(Integer, primary_key=True)\n",
    "    language_name = Column(String(50), nullable = False)\n",
    "\n",
    "    def __repr__(self):\n",
    "        return \"<Languages(language_id={0}, language_name={1})>\".format(\n",
    "            self.language_id, self.language_name)\n",
    "    \n",
    "class Translations(Base):\n",
    "    __tablename__ = 'Translations'\n",
    "    translation_id = Column(Integer, primary_key=True)\n",
    "    text_content_id = Column(Integer, ForeignKey(\"TextContent.text_content_id\"))\n",
    "    language_id = Column(Integer, ForeignKey(\"Languages.language_id\"))\n",
    "    translation = Column(String(500))\n",
    "\n",
    "    def __repr__(self):\n",
    "        return \"<Translations(translation_id={0}, text_content_id={1}, language_id={2}, translation={3})>\".format(\n",
    "            self.translation_id, self.text_content_id, self.language_id, self.translation)"
   ]
  },
  {
   "cell_type": "code",
   "execution_count": 4,
   "metadata": {},
   "outputs": [],
   "source": [
    "# connect to database\n",
    "engine = create_engine(\"postgresql://postgres@localhost/millionaires\")\n",
    "\n",
    "# create database if not exists\n",
    "if not database_exists(engine.url):\n",
    "    create_database(engine.url)\n",
    "    Base.metadata.create_all(engine)\n",
    "\n",
    "db = engine.connect()"
   ]
  },
  {
   "cell_type": "code",
   "execution_count": 5,
   "metadata": {},
   "outputs": [],
   "source": [
    "from sqlalchemy import MetaData, Table, insert\n",
    "\n",
    "# create tables using ORM techniques\n",
    "metadata = MetaData()\n",
    "languages = Table('Languages', metadata, autoload_with=db)\n",
    "text_content = Table('TextContent', metadata, autoload_with=db)\n",
    "\n",
    "# insert original language\n",
    "query_languages = insert(languages).values(language_id=1, language_name='pl')\n",
    "# insert original text content\n",
    "query_text_content = insert(text_content).values(\n",
    "[\n",
    "    {'text_content_id': 1, 'text_content_tag': '50_50', 'original_text': '50 / 50', 'original_language_id': 1}\n",
    "]\n",
    ")\n",
    "# execute queries\n",
    "result_languages = db.execute(query_languages)\n",
    "result_text_content = db.execute(query_text_content)\n",
    "db.commit()"
   ]
  }
 ],
 "metadata": {
  "kernelspec": {
   "display_name": "Python 3",
   "language": "python",
   "name": "python3"
  },
  "language_info": {
   "codemirror_mode": {
    "name": "ipython",
    "version": 3
   },
   "file_extension": ".py",
   "mimetype": "text/x-python",
   "name": "python",
   "nbconvert_exporter": "python",
   "pygments_lexer": "ipython3",
   "version": "3.10.10"
  },
  "orig_nbformat": 4
 },
 "nbformat": 4,
 "nbformat_minor": 2
}
