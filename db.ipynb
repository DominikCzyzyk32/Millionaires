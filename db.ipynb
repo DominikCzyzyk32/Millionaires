{
 "cells": [
  {
   "cell_type": "code",
   "execution_count": 1,
   "metadata": {},
   "outputs": [],
   "source": [
    "from sqlalchemy import create_engine\n",
    "from sqlalchemy_utils import database_exists, create_database\n",
    "from sqlalchemy.ext.declarative import declarative_base\n",
    "from sqlalchemy import Column, Integer, String, Boolean, Date, ForeignKey, Sequence, CheckConstraint, UniqueConstraint"
   ]
  },
  {
   "cell_type": "code",
   "execution_count": 9,
   "metadata": {},
   "outputs": [
    {
     "name": "stdout",
     "output_type": "stream",
     "text": [
      "<sqlalchemy.engine.cursor.CursorResult object at 0x000001880BB68520>\n"
     ]
    },
    {
     "ename": "FileNotFoundError",
     "evalue": "[Errno 2] No such file or directory: 'WWTBAM.json'",
     "output_type": "error",
     "traceback": [
      "\u001b[1;31m---------------------------------------------------------------------------\u001b[0m",
      "\u001b[1;31mFileNotFoundError\u001b[0m                         Traceback (most recent call last)",
      "File \u001b[1;32mD:\\S\\Advanced Databases\\Millionaires\\WWTBAM_import.py:20\u001b[0m\n\u001b[0;32m     17\u001b[0m     lang_query \u001b[39m=\u001b[39m insert(languages)\u001b[39m.\u001b[39mvalues(name\u001b[39m=\u001b[39m\u001b[39m'\u001b[39m\u001b[39men\u001b[39m\u001b[39m'\u001b[39m)\n\u001b[0;32m     18\u001b[0m     db\u001b[39m.\u001b[39mexecute(lang_query)\n\u001b[1;32m---> 20\u001b[0m file \u001b[39m=\u001b[39m \u001b[39mopen\u001b[39;49m(\u001b[39m'\u001b[39;49m\u001b[39mWWTBAM.json\u001b[39;49m\u001b[39m'\u001b[39;49m)\n\u001b[0;32m     21\u001b[0m data \u001b[39m=\u001b[39m json\u001b[39m.\u001b[39mload(file)\n\u001b[0;32m     22\u001b[0m quests \u001b[39m=\u001b[39m []\n",
      "\u001b[1;31mFileNotFoundError\u001b[0m: [Errno 2] No such file or directory: 'WWTBAM.json'"
     ]
    }
   ],
   "source": [
    "%run WWTBAM_import.py"
   ]
  },
  {
   "cell_type": "code",
   "execution_count": 2,
   "metadata": {},
   "outputs": [
    {
     "name": "stderr",
     "output_type": "stream",
     "text": [
      "C:\\Users\\domin\\AppData\\Local\\Temp\\ipykernel_18356\\4196137762.py:1: MovedIn20Warning: The ``declarative_base()`` function is now available as sqlalchemy.orm.declarative_base(). (deprecated since: 2.0) (Background on SQLAlchemy 2.0 at: https://sqlalche.me/e/b8d9)\n",
      "  Base = declarative_base()\n"
     ]
    }
   ],
   "source": [
    "Base = declarative_base()"
   ]
  },
  {
   "cell_type": "code",
   "execution_count": 3,
   "metadata": {},
   "outputs": [],
   "source": [
    "# create tables structure\n",
    "class AppContent(Base):\n",
    "    __tablename__ = 'AppContent'\n",
    "    __table_args__ = (\n",
    "        UniqueConstraint('tag'),\n",
    "    )\n",
    "    id = Column(Integer, primary_key=True)\n",
    "    tag = Column(String(50), nullable=False)\n",
    "    original_language_id = Column(Integer, ForeignKey('Languages.id'))\n",
    "    original_text = Column(String(500))\n",
    "\n",
    "    def __repr__(self):\n",
    "        return \"<AppContent(id={0}, tag={1}, original_language_id={2}, original_text={3})>\".format(\n",
    "            self.id, self.tag, self.original_language_id, self.original_text)\n",
    "       \n",
    "class AppTranslations(Base):\n",
    "    __tablename__ = 'AppTranslations'\n",
    "    id = Column(Integer, primary_key=True)\n",
    "    text_content_id = Column(Integer, ForeignKey(\"AppContent.id\"))\n",
    "    language_id = Column(Integer, ForeignKey(\"Languages.id\"))\n",
    "    translation = Column(String(500))\n",
    "\n",
    "    def __repr__(self):\n",
    "        return \"<AppTranslations(id={0}, text_content_id={1}, language_id={2}, translation={3})>\".format(\n",
    "            self.id, self.text_content_id, self.language_id, self.translation)\n",
    "    \n",
    "class Languages(Base):\n",
    "    __tablename__ = 'Languages'\n",
    "    __table_args__ = (\n",
    "        CheckConstraint('LENGTH(name) = 2'),\n",
    "        UniqueConstraint('name'),\n",
    "    )\n",
    "    id = Column(Integer, primary_key=True)\n",
    "    name = Column(String(50), nullable = False)\n",
    "\n",
    "    def __repr__(self):\n",
    "        return \"<Languages(id={0}, name={1})>\".format(\n",
    "            self.id, self.name)\n",
    "    \n",
    "class Questions(Base):\n",
    "    __tablename__ = 'Questions'\n",
    "    id = Column(Integer, primary_key=True)\n",
    "    original_language_id = Column(Integer, ForeignKey(\"Languages.id\"))\n",
    "    question = Column(String(500))\n",
    "    correct_answer = Column(String(50))\n",
    "    wrong_answer_1 = Column(String(50))\n",
    "    wrong_answer_2 = Column(String(50))\n",
    "    wrong_answer_3 = Column(String(50))\n",
    "    used = Column(Boolean, unique=False, default=False)\n",
    "\n",
    "    def __repr__(self):\n",
    "        return \"<Questions(id={0}, original_language_id={1}, question={2}, correct_answer={3}, wrong_answer_1={4}, wrong_answer_2={5}, wrong_answer_3={6}, used={7})>\".format(\n",
    "            self.id, self.original_language_id, self.question, self.correct_answer, self.wrong_answer_1, self.wrong_answer_2, self.wrong_answer_3, self.used)\n",
    "    \n",
    "class QuestionTranslations(Base):\n",
    "    __tablename__ = 'QuestionTranslations'\n",
    "    id = Column(Integer, primary_key=True)\n",
    "    question_id = Column(Integer, ForeignKey(\"Questions.id\"))\n",
    "    language_id = Column(Integer, ForeignKey(\"Languages.id\"))\n",
    "    question = Column(String(500))\n",
    "    correct_answer = Column(String(50))\n",
    "    wrong_answer_1 = Column(String(50))\n",
    "    wrong_answer_2 = Column(String(50))\n",
    "    wrong_answer_3 = Column(String(50))\n",
    "\n",
    "    def __repr__(self):\n",
    "        return \"<QuestionTranslations(id={0}, question_id={1}, language_id={2}, question={3}, correct_answer={4}, wrong_answer_1={5}, wrong_answer_2={6}, wrong_answer_2={7})>\".format(\n",
    "            self.id, self.question_id, self.language_id, self.question, self.correct_answer, self.wrong_answer_1, self.wrong_answer_2, self.wrong_answer_3)"
   ]
  },
  {
   "cell_type": "code",
   "execution_count": 4,
   "metadata": {},
   "outputs": [],
   "source": [
    "# connect to database\n",
    "engine = create_engine(\"postgresql://postgres@localhost/millionaires\")\n",
    "\n",
    "# create database if not exists\n",
    "if not database_exists(engine.url):\n",
    "    create_database(engine.url)\n",
    "    Base.metadata.create_all(engine)\n",
    "\n",
    "db = engine.connect()"
   ]
  },
  {
   "cell_type": "code",
   "execution_count": 5,
   "metadata": {},
   "outputs": [],
   "source": [
    "from sqlalchemy import MetaData, Table, insert\n",
    "\n",
    "# create tables using ORM techniques\n",
    "metadata = MetaData()\n",
    "languages = Table('Languages', metadata, autoload_with=db)\n",
    "text_content = Table('AppContent', metadata, autoload_with=db)\n",
    "\n",
    "# insert original language\n",
    "languages_query = insert(languages).values(name='pl')\n",
    "\n",
    "# insert original text content\n",
    "text_content_query = insert(text_content).values(\n",
    "[\n",
    "    {'tag': '50_50', 'original_text': '50 / 50', 'original_language_id': 1},\n",
    "    {'tag': 'call_friend', 'original_text': 'Telefon do przyjaciela', 'original_language_id': 1},\n",
    "    {'tag': 'question_public', 'original_text': 'Pytanie do publiczności', 'original_language_id': 1},\n",
    "    {'tag': 'question', 'original_text': 'Pytanie', 'original_language_id': 1},\n",
    "    {'tag': 'play_further', 'original_text': 'Czy chcesz grać dalej?', 'original_language_id': 1},\n",
    "    {'tag': 'lifebuoy', 'original_text': 'Koła ratunkowe', 'original_language_id': 1},\n",
    "    {'tag': 'question_value', 'original_text': 'Wartość pytania', 'original_language_id': 1},\n",
    "    {'tag': 'game_result', 'original_text': 'Wynik gry', 'original_language_id': 1},\n",
    "    {'tag': 'millionaires', 'original_text': 'Milionerzy', 'original_language_id': 1},\n",
    "    {'tag': 'correct_answer', 'original_text': 'Brawo, to jest poprawna odpowiedź! :)', 'original_language_id': 1},\n",
    "    {'tag': 'million_win', 'original_text': \"Wygrałeś Milion !!!\\nJeśli chcesz zagrać jeszcze raz kliknij przycisk 'Rozpocznij grę'\", 'original_language_id': 1},\n",
    "    {'tag': 'incorrect_answer', 'original_text': \"Niestety, jest to zła odpowiedź! :(\\nPoprawną odpowiedzią była odpowiedź \", 'original_language_id': 1},\n",
    "    {'tag': 'no_win_incorrect_answer', 'original_text': \"Niestety nic dziś nie wygrałeś :(\\nJeśli chcesz zagrać jeszcze raz kliknij przycisk 'Rozpocznij grę'\", 'original_language_id': 1},\n",
    "    {'tag': '1000_win_incorrect_answer', 'original_text': \"Wygrałeś 1000 zł\\nJeśli chcesz zagrać jeszcze raz kliknij przycisk 'Rozpocznij grę'\", 'original_language_id': 1},\n",
    "    {'tag': '40000_win_incorrect_answer', 'original_text': \"Wygrałeś 40000 zł\\nJeśli chcesz zagrać jeszcze raz kliknij przycisk 'Rozpocznij grę'\", 'original_language_id': 1},\n",
    "    {'tag': 'question_for', 'original_text': 'Pytanie za ', 'original_language_id': 1},\n",
    "    {'tag': 'no_win_resignation', 'original_text': 'Niestety nic dziś nie wygrałeś/łaś :(', 'original_language_id': 1},\n",
    "    {'tag': 'x_win_resignation', 'original_text': 'Wygrałeś/łaś ', 'original_language_id': 1},\n",
    "    {'tag': 'currency', 'original_text': 'zł', 'original_language_id': 1},\n",
    "    {'tag': 'correct_answer_resignation', 'original_text': 'Poprawną odpowiedzią była odpowiedź ', 'original_language_id': 1},\n",
    "    {'tag': 'lifebuoy_used', 'original_text': 'To koło ratunkowe zostało już użyte', 'original_language_id': 1},\n",
    "    {'tag': 'friend_hint', 'original_text': 'Wydaje mi się, że jest to odpowiedź ', 'original_language_id': 1},\n",
    "    {'tag': 'start_game', 'original_text': 'Rozpocznij grę', 'original_language_id': 1},\n",
    "    {'tag': 'resignation', 'original_text': 'Rezygnuję', 'original_language_id': 1},\n",
    "    {'tag': 'rules', 'original_text': 'Zasady gry Milionerzy', 'original_language_id': 1},\n",
    "    {'tag': 'go_to_game', 'original_text': 'Przejdź do gry', 'original_language_id': 1}  \n",
    "]\n",
    ")\n",
    "# execute queries\n",
    "result_languages = db.execute(languages_query)\n",
    "result_text_content = db.execute(text_content_query)\n",
    "db.commit()"
   ]
  }
 ],
 "metadata": {
  "kernelspec": {
   "display_name": "Python 3",
   "language": "python",
   "name": "python3"
  },
  "language_info": {
   "codemirror_mode": {
    "name": "ipython",
    "version": 3
   },
   "file_extension": ".py",
   "mimetype": "text/x-python",
   "name": "python",
   "nbconvert_exporter": "python",
   "pygments_lexer": "ipython3",
   "version": "3.10.10"
  },
  "orig_nbformat": 4
 },
 "nbformat": 4,
 "nbformat_minor": 2
}
